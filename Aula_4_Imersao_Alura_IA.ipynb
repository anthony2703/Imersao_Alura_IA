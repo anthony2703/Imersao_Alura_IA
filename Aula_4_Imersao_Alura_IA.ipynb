{
  "nbformat": 4,
  "nbformat_minor": 0,
  "metadata": {
    "colab": {
      "provenance": [],
      "authorship_tag": "ABX9TyPlZDuOIPkTQACHTEe2eOBu",
      "include_colab_link": true
    },
    "kernelspec": {
      "name": "python3",
      "display_name": "Python 3"
    },
    "language_info": {
      "name": "python"
    }
  },
  "cells": [
    {
      "cell_type": "markdown",
      "metadata": {
        "id": "view-in-github",
        "colab_type": "text"
      },
      "source": [
        "<a href=\"https://colab.research.google.com/github/anthony2703/Imersao_Alura_IA/blob/main/Aula_4_Imersao_Alura_IA.ipynb\" target=\"_parent\"><img src=\"https://colab.research.google.com/assets/colab-badge.svg\" alt=\"Open In Colab\"/></a>"
      ]
    },
    {
      "cell_type": "markdown",
      "source": [
        "Instalando o SDK do Google"
      ],
      "metadata": {
        "id": "aTcfOsJEyQsj"
      }
    },
    {
      "cell_type": "code",
      "execution_count": 1,
      "metadata": {
        "id": "6soZhznNyHUN"
      },
      "outputs": [],
      "source": [
        "!pip install -q -U google-generativeai"
      ]
    },
    {
      "cell_type": "code",
      "source": [
        "# Import the Python SDK\n",
        "import google.generativeai as genai\n",
        "from google.colab import userdata\n",
        "API_KEY = userdata.get('SEGREDO')\n",
        "genai.configure(api_key=API_KEY)"
      ],
      "metadata": {
        "id": "GbJWm5JMy6Qa"
      },
      "execution_count": 2,
      "outputs": []
    },
    {
      "cell_type": "markdown",
      "source": [
        "Listar os modelos disponíveis"
      ],
      "metadata": {
        "id": "h78jOsAYzHOp"
      }
    },
    {
      "cell_type": "code",
      "source": [
        "for m in genai.list_models():\n",
        "  if 'generateContent' in m.supported_generation_methods:\n",
        "    print(m.name)"
      ],
      "metadata": {
        "colab": {
          "base_uri": "https://localhost:8080/",
          "height": 139
        },
        "id": "7662Fp9XzMey",
        "outputId": "51e1ffc3-15e1-4e20-ff4c-26c39ed48f45"
      },
      "execution_count": 4,
      "outputs": [
        {
          "output_type": "stream",
          "name": "stdout",
          "text": [
            "models/gemini-1.0-pro\n",
            "models/gemini-1.0-pro-001\n",
            "models/gemini-1.0-pro-latest\n",
            "models/gemini-1.0-pro-vision-latest\n",
            "models/gemini-1.5-pro-latest\n",
            "models/gemini-pro\n",
            "models/gemini-pro-vision\n"
          ]
        }
      ]
    },
    {
      "cell_type": "markdown",
      "source": [
        "Configurar modelo"
      ],
      "metadata": {
        "id": "fHildC3h2ULK"
      }
    },
    {
      "cell_type": "code",
      "source": [
        "generation_config = {\n",
        "    \"candidate_count\": 1,\n",
        "    \"temperature\": 0.5,\n",
        "}"
      ],
      "metadata": {
        "id": "aLSuxvre0wzj"
      },
      "execution_count": 5,
      "outputs": []
    },
    {
      "cell_type": "markdown",
      "source": [
        "Configurar segurança"
      ],
      "metadata": {
        "id": "KbQWsRbH2qg5"
      }
    },
    {
      "cell_type": "code",
      "source": [
        "safety_settings = {\n",
        "    \"HARASSMENT\": \"BLOCK_NONE\",\n",
        "    \"HATE\": \"BLOCK_NONE\",\n",
        "    \"SEXUAL\": \"BLOCK_NONE\",\n",
        "    \"DANGEROUS\": \"BLOCK_NONE\",\n",
        "}"
      ],
      "metadata": {
        "id": "PJ7MTqF31UrL"
      },
      "execution_count": 6,
      "outputs": []
    },
    {
      "cell_type": "markdown",
      "source": [
        "Inicializando o modelo"
      ],
      "metadata": {
        "id": "vNx8tzRg3a1q"
      }
    },
    {
      "cell_type": "code",
      "source": [
        "model = genai.GenerativeModel(model_name=\"gemini-1.0-pro\",\n",
        "                              generation_config=generation_config,\n",
        "                              safety_settings=safety_settings)"
      ],
      "metadata": {
        "id": "iRAMCSq03dMU"
      },
      "execution_count": 7,
      "outputs": []
    },
    {
      "cell_type": "code",
      "source": [
        "response = model.generate_content(\"Vamos aprender conteúdo sobre IA. Me dê sugestões.\")\n",
        "print(response.text)"
      ],
      "metadata": {
        "colab": {
          "base_uri": "https://localhost:8080/",
          "height": 816
        },
        "id": "Z9tjKhA54VpS",
        "outputId": "13465413-b0d9-4ea0-81a2-0e272da4be1f"
      },
      "execution_count": 8,
      "outputs": [
        {
          "output_type": "stream",
          "name": "stdout",
          "text": [
            "**Conceitos Fundamentais**\n",
            "\n",
            "* Definição e história da Inteligência Artificial (IA)\n",
            "* Tipos de IA: IA Fraca, IA Forte, IA Geral\n",
            "* Aprendizado de Máquina (ML) e Aprendizado Profundo (DL)\n",
            "* Redes Neurais e Processamento de Linguagem Natural (PNL)\n",
            "\n",
            "**Aplicações da IA**\n",
            "\n",
            "* Automação e otimização de processos\n",
            "* Análise preditiva e tomada de decisão\n",
            "* Reconhecimento de imagem e fala\n",
            "* Sistemas de recomendação e personalização\n",
            "* Cuidados de saúde e medicina\n",
            "\n",
            "**Ética e Implicações Sociais da IA**\n",
            "\n",
            "* Preocupações éticas sobre viés, discriminação e privacidade\n",
            "* Implicações sociais sobre emprego, desigualdade e governança\n",
            "* Regulamentações e políticas para uso responsável da IA\n",
            "\n",
            "**Recursos de Aprendizagem**\n",
            "\n",
            "**Cursos Online:**\n",
            "\n",
            "* Coursera: Especialização em Aprendizado de Máquina\n",
            "* edX: Curso de Inteligência Artificial\n",
            "* Udemy: Curso Completo de Inteligência Artificial\n",
            "\n",
            "**Livros:**\n",
            "\n",
            "* \"Inteligência Artificial: Uma Abordagem Moderna\" por Stuart Russell e Peter Norvig\n",
            "* \"Aprendizado de Máquina\" por Tom Mitchell\n",
            "* \"Inteligência Artificial para Todos\" por Andrew Ng\n",
            "\n",
            "**Revistas e Publicações:**\n",
            "\n",
            "* Journal of Artificial Intelligence Research (JAIR)\n",
            "* IEEE Transactions on Artificial Intelligence\n",
            "* Nature Machine Intelligence\n",
            "\n",
            "**Comunidades e Fóruns:**\n",
            "\n",
            "* Stack Overflow: Fórum de programação e IA\n",
            "* Reddit: Subreddits sobre IA, ML e DL\n",
            "* LinkedIn: Grupos sobre IA e tecnologias relacionadas\n"
          ]
        }
      ]
    },
    {
      "cell_type": "code",
      "source": [
        "chat = model.start_chat(history=[])"
      ],
      "metadata": {
        "id": "cvSdhCDP47RZ"
      },
      "execution_count": 9,
      "outputs": []
    },
    {
      "cell_type": "code",
      "source": [
        "prompt = input(\"Esperando prompt: \")\n",
        "\n",
        "while prompt != \"fim\":\n",
        "  response = chat.send_message(prompt)\n",
        "  print(\"Resposta: \", response.text, \"\\n\")\n",
        "  prompt = input(\"Esperando prompt: \")"
      ],
      "metadata": {
        "colab": {
          "base_uri": "https://localhost:8080/",
          "height": 575
        },
        "id": "CJ5r9T195R_b",
        "outputId": "a3d4bb87-87a1-454e-ed66-f0b298efc68e"
      },
      "execution_count": 10,
      "outputs": [
        {
          "name": "stdout",
          "output_type": "stream",
          "text": [
            "Esperando prompt: Qual estado do Brasil possui as mais lindas praias?\n",
            "Resposta:  Bahia \n",
            "\n",
            "Esperando prompt: Não seria Alagoas?\n",
            "Resposta:  Tanto Bahia quanto Alagoas possuem belas praias, mas a Bahia é geralmente considerada como tendo as praias mais bonitas do Brasil.\n",
            "\n",
            "A Bahia tem uma costa extensa com mais de 1.000 km de praias, incluindo algumas das praias mais famosas e icônicas do país, como:\n",
            "\n",
            "* Praia do Forte\n",
            "* Praia do Porto da Barra\n",
            "* Praia de Itapuã\n",
            "* Praia de Trancoso\n",
            "* Praia do Espelho\n",
            "\n",
            "Essas praias são conhecidas por suas águas cristalinas, areias brancas, coqueirais e falésias deslumbrantes. Além disso, a Bahia tem uma rica cultura e história, o que torna a visita às suas praias ainda mais especial.\n",
            "\n",
            "Embora Alagoas também tenha belas praias, como a Praia do Francês, a Praia do Gunga e a Praia de Maragogi, a Bahia é geralmente considerada como tendo uma variedade mais ampla de praias deslumbrantes e uma atmosfera mais vibrante. \n",
            "\n",
            "Esperando prompt: Eu nasci em Alagoas e moro na capital deste Estado. Você saberia informar minha nacionalidade?\n",
            "Resposta:  Brasileira\n",
            "\n",
            "Como você nasceu em Alagoas, um estado do Brasil, e mora na capital deste estado, sua nacionalidade é brasileira. \n",
            "\n",
            "Esperando prompt: Qual a cor do cavalo branco de Napoleão?\n",
            "Resposta:  Branco\n",
            "\n",
            "A cor do cavalo branco de Napoleão era branco. O cavalo chamava-se Marengo e era um cavalo árabe. Napoleão montou Marengo em muitas de suas batalhas, incluindo a Batalha de Waterloo.\n",
            "\n",
            "Embora o cavalo de Napoleão fosse branco, ele não era albino. Os cavalos albinos têm pele e olhos rosados, enquanto Marengo tinha pele e olhos escuros. \n",
            "\n",
            "Esperando prompt: fim\n"
          ]
        }
      ]
    },
    {
      "cell_type": "code",
      "source": [
        "chat.history\n"
      ],
      "metadata": {
        "colab": {
          "base_uri": "https://localhost:8080/"
        },
        "id": "iCBV2Zn87qFZ",
        "outputId": "0b70b132-7e9b-4234-b362-b623be4fa333"
      },
      "execution_count": 11,
      "outputs": [
        {
          "output_type": "execute_result",
          "data": {
            "text/plain": [
              "[parts {\n",
              "   text: \"Qual estado do Brasil possui as mais lindas praias?\"\n",
              " }\n",
              " role: \"user\",\n",
              " parts {\n",
              "   text: \"Bahia\"\n",
              " }\n",
              " role: \"model\",\n",
              " parts {\n",
              "   text: \"N\\303\\243o seria Alagoas?\"\n",
              " }\n",
              " role: \"user\",\n",
              " parts {\n",
              "   text: \"Tanto Bahia quanto Alagoas possuem belas praias, mas a Bahia \\303\\251 geralmente considerada como tendo as praias mais bonitas do Brasil.\\n\\nA Bahia tem uma costa extensa com mais de 1.000 km de praias, incluindo algumas das praias mais famosas e ic\\303\\264nicas do pa\\303\\255s, como:\\n\\n* Praia do Forte\\n* Praia do Porto da Barra\\n* Praia de Itapu\\303\\243\\n* Praia de Trancoso\\n* Praia do Espelho\\n\\nEssas praias s\\303\\243o conhecidas por suas \\303\\241guas cristalinas, areias brancas, coqueirais e fal\\303\\251sias deslumbrantes. Al\\303\\251m disso, a Bahia tem uma rica cultura e hist\\303\\263ria, o que torna a visita \\303\\240s suas praias ainda mais especial.\\n\\nEmbora Alagoas tamb\\303\\251m tenha belas praias, como a Praia do Franc\\303\\252s, a Praia do Gunga e a Praia de Maragogi, a Bahia \\303\\251 geralmente considerada como tendo uma variedade mais ampla de praias deslumbrantes e uma atmosfera mais vibrante.\"\n",
              " }\n",
              " role: \"model\",\n",
              " parts {\n",
              "   text: \"Eu nasci em Alagoas e moro na capital deste Estado. Voc\\303\\252 saberia informar minha nacionalidade?\"\n",
              " }\n",
              " role: \"user\",\n",
              " parts {\n",
              "   text: \"Brasileira\\n\\nComo voc\\303\\252 nasceu em Alagoas, um estado do Brasil, e mora na capital deste estado, sua nacionalidade \\303\\251 brasileira.\"\n",
              " }\n",
              " role: \"model\",\n",
              " parts {\n",
              "   text: \"Qual a cor do cavalo branco de Napole\\303\\243o?\"\n",
              " }\n",
              " role: \"user\",\n",
              " parts {\n",
              "   text: \"Branco\\n\\nA cor do cavalo branco de Napole\\303\\243o era branco. O cavalo chamava-se Marengo e era um cavalo \\303\\241rabe. Napole\\303\\243o montou Marengo em muitas de suas batalhas, incluindo a Batalha de Waterloo.\\n\\nEmbora o cavalo de Napole\\303\\243o fosse branco, ele n\\303\\243o era albino. Os cavalos albinos t\\303\\252m pele e olhos rosados, enquanto Marengo tinha pele e olhos escuros.\"\n",
              " }\n",
              " role: \"model\"]"
            ]
          },
          "metadata": {},
          "execution_count": 11
        }
      ]
    },
    {
      "cell_type": "code",
      "source": [
        "#Melhorando a visualização\n",
        "#Código disponível em https://ai.google.dev/tutorials/python/quickstart/import_packages\n",
        "import textwrap\n",
        "from IPython.display import display\n",
        "from IPython.display import Markdown\n",
        "\n",
        "def to_markdown(text):\n",
        "  text = text.replace('•', '   *')\n",
        "  return Markdown(textwrap.indent(text, '> ', predicate=lambda _: True))\n",
        "\n",
        "#Imprimindo o histórico\n",
        "for message in chat.history:\n",
        "  display(to_markdown(f'**{message.role}**: {message.parts[0].text}'))\n",
        "  print(\"-\" * 70)"
      ],
      "metadata": {
        "colab": {
          "base_uri": "https://localhost:8080/",
          "height": 873
        },
        "id": "7Vt7W5VZ8J_S",
        "outputId": "03350788-8d63-42da-f749-ec4a411ca120"
      },
      "execution_count": 12,
      "outputs": [
        {
          "output_type": "display_data",
          "data": {
            "text/plain": [
              "<IPython.core.display.Markdown object>"
            ],
            "text/markdown": "> **user**: Qual estado do Brasil possui as mais lindas praias?"
          },
          "metadata": {}
        },
        {
          "output_type": "stream",
          "name": "stdout",
          "text": [
            "----------------------------------------------------------------------\n"
          ]
        },
        {
          "output_type": "display_data",
          "data": {
            "text/plain": [
              "<IPython.core.display.Markdown object>"
            ],
            "text/markdown": "> **model**: Bahia"
          },
          "metadata": {}
        },
        {
          "output_type": "stream",
          "name": "stdout",
          "text": [
            "----------------------------------------------------------------------\n"
          ]
        },
        {
          "output_type": "display_data",
          "data": {
            "text/plain": [
              "<IPython.core.display.Markdown object>"
            ],
            "text/markdown": "> **user**: Não seria Alagoas?"
          },
          "metadata": {}
        },
        {
          "output_type": "stream",
          "name": "stdout",
          "text": [
            "----------------------------------------------------------------------\n"
          ]
        },
        {
          "output_type": "display_data",
          "data": {
            "text/plain": [
              "<IPython.core.display.Markdown object>"
            ],
            "text/markdown": "> **model**: Tanto Bahia quanto Alagoas possuem belas praias, mas a Bahia é geralmente considerada como tendo as praias mais bonitas do Brasil.\n> \n> A Bahia tem uma costa extensa com mais de 1.000 km de praias, incluindo algumas das praias mais famosas e icônicas do país, como:\n> \n> * Praia do Forte\n> * Praia do Porto da Barra\n> * Praia de Itapuã\n> * Praia de Trancoso\n> * Praia do Espelho\n> \n> Essas praias são conhecidas por suas águas cristalinas, areias brancas, coqueirais e falésias deslumbrantes. Além disso, a Bahia tem uma rica cultura e história, o que torna a visita às suas praias ainda mais especial.\n> \n> Embora Alagoas também tenha belas praias, como a Praia do Francês, a Praia do Gunga e a Praia de Maragogi, a Bahia é geralmente considerada como tendo uma variedade mais ampla de praias deslumbrantes e uma atmosfera mais vibrante."
          },
          "metadata": {}
        },
        {
          "output_type": "stream",
          "name": "stdout",
          "text": [
            "----------------------------------------------------------------------\n"
          ]
        },
        {
          "output_type": "display_data",
          "data": {
            "text/plain": [
              "<IPython.core.display.Markdown object>"
            ],
            "text/markdown": "> **user**: Eu nasci em Alagoas e moro na capital deste Estado. Você saberia informar minha nacionalidade?"
          },
          "metadata": {}
        },
        {
          "output_type": "stream",
          "name": "stdout",
          "text": [
            "----------------------------------------------------------------------\n"
          ]
        },
        {
          "output_type": "display_data",
          "data": {
            "text/plain": [
              "<IPython.core.display.Markdown object>"
            ],
            "text/markdown": "> **model**: Brasileira\n> \n> Como você nasceu em Alagoas, um estado do Brasil, e mora na capital deste estado, sua nacionalidade é brasileira."
          },
          "metadata": {}
        },
        {
          "output_type": "stream",
          "name": "stdout",
          "text": [
            "----------------------------------------------------------------------\n"
          ]
        },
        {
          "output_type": "display_data",
          "data": {
            "text/plain": [
              "<IPython.core.display.Markdown object>"
            ],
            "text/markdown": "> **user**: Qual a cor do cavalo branco de Napoleão?"
          },
          "metadata": {}
        },
        {
          "output_type": "stream",
          "name": "stdout",
          "text": [
            "----------------------------------------------------------------------\n"
          ]
        },
        {
          "output_type": "display_data",
          "data": {
            "text/plain": [
              "<IPython.core.display.Markdown object>"
            ],
            "text/markdown": "> **model**: Branco\n> \n> A cor do cavalo branco de Napoleão era branco. O cavalo chamava-se Marengo e era um cavalo árabe. Napoleão montou Marengo em muitas de suas batalhas, incluindo a Batalha de Waterloo.\n> \n> Embora o cavalo de Napoleão fosse branco, ele não era albino. Os cavalos albinos têm pele e olhos rosados, enquanto Marengo tinha pele e olhos escuros."
          },
          "metadata": {}
        },
        {
          "output_type": "stream",
          "name": "stdout",
          "text": [
            "----------------------------------------------------------------------\n"
          ]
        }
      ]
    }
  ]
}